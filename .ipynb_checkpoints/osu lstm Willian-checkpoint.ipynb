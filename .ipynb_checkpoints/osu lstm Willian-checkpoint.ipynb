{
 "cells": [
  {
   "cell_type": "code",
   "execution_count": 1,
   "metadata": {
    "collapsed": false
   },
   "outputs": [
    {
     "name": "stderr",
     "output_type": "stream",
     "text": [
      "Using TensorFlow backend.\n"
     ]
    }
   ],
   "source": [
    "import numpy as np\n",
    "import keras\n",
    "from keras.models import Sequential\n",
    "from keras.layers import Dense, TimeDistributed, Flatten\n",
    "from keras.layers import LSTM\n",
    "\n",
    "from keras.layers import Conv1D, MaxPooling2D\n"
   ]
  },
  {
   "cell_type": "code",
   "execution_count": 2,
   "metadata": {
    "collapsed": false
   },
   "outputs": [
    {
     "ename": "FileNotFoundError",
     "evalue": "[Errno 2] No such file or directory: 'D:\\\\tandon\\\\AI_for_game\\\\osu_project\\\\normed_training_input.csv'",
     "output_type": "error",
     "traceback": [
      "\u001b[0;31m---------------------------------------------------------------------------\u001b[0m",
      "\u001b[0;31mFileNotFoundError\u001b[0m                         Traceback (most recent call last)",
      "\u001b[0;32m<ipython-input-2-a0cb73976357>\u001b[0m in \u001b[0;36m<module>\u001b[0;34m()\u001b[0m\n\u001b[1;32m      1\u001b[0m \u001b[0;31m# Input sequence\u001b[0m\u001b[0;34m\u001b[0m\u001b[0;34m\u001b[0m\u001b[0m\n\u001b[0;32m----> 2\u001b[0;31m \u001b[0mX_test\u001b[0m \u001b[0;34m=\u001b[0m \u001b[0mnp\u001b[0m\u001b[0;34m.\u001b[0m\u001b[0mloadtxt\u001b[0m\u001b[0;34m(\u001b[0m\u001b[0;34m\"D:\\\\tandon\\\\AI_for_game\\\\osu_project\\\\normed_training_input.csv\"\u001b[0m\u001b[0;34m,\u001b[0m\u001b[0mdelimiter\u001b[0m\u001b[0;34m=\u001b[0m\u001b[0;34m\",\"\u001b[0m\u001b[0;34m,\u001b[0m\u001b[0mskiprows\u001b[0m\u001b[0;34m=\u001b[0m\u001b[0;36m0\u001b[0m\u001b[0;34m)\u001b[0m\u001b[0;34m\u001b[0m\u001b[0m\n\u001b[0m\u001b[1;32m      3\u001b[0m \u001b[0;34m\u001b[0m\u001b[0m\n\u001b[1;32m      4\u001b[0m \u001b[0mY_test\u001b[0m \u001b[0;34m=\u001b[0m \u001b[0mnp\u001b[0m\u001b[0;34m.\u001b[0m\u001b[0mloadtxt\u001b[0m\u001b[0;34m(\u001b[0m\u001b[0;34m\"D:\\\\tandon\\\\AI_for_game\\\\osu_project\\\\normed_training_output.csv\"\u001b[0m\u001b[0;34m,\u001b[0m\u001b[0mdelimiter\u001b[0m\u001b[0;34m=\u001b[0m\u001b[0;34m\",\"\u001b[0m\u001b[0;34m,\u001b[0m\u001b[0mskiprows\u001b[0m\u001b[0;34m=\u001b[0m\u001b[0;36m0\u001b[0m\u001b[0;34m)\u001b[0m\u001b[0;34m\u001b[0m\u001b[0m\n\u001b[1;32m      5\u001b[0m \u001b[0;34m\u001b[0m\u001b[0m\n",
      "\u001b[0;32m/Users/willian/anaconda3/lib/python3.6/site-packages/numpy/lib/npyio.py\u001b[0m in \u001b[0;36mloadtxt\u001b[0;34m(fname, dtype, comments, delimiter, converters, skiprows, usecols, unpack, ndmin)\u001b[0m\n\u001b[1;32m    858\u001b[0m                 \u001b[0mfh\u001b[0m \u001b[0;34m=\u001b[0m \u001b[0miter\u001b[0m\u001b[0;34m(\u001b[0m\u001b[0mopen\u001b[0m\u001b[0;34m(\u001b[0m\u001b[0mfname\u001b[0m\u001b[0;34m,\u001b[0m \u001b[0;34m'U'\u001b[0m\u001b[0;34m)\u001b[0m\u001b[0;34m)\u001b[0m\u001b[0;34m\u001b[0m\u001b[0m\n\u001b[1;32m    859\u001b[0m             \u001b[0;32melse\u001b[0m\u001b[0;34m:\u001b[0m\u001b[0;34m\u001b[0m\u001b[0m\n\u001b[0;32m--> 860\u001b[0;31m                 \u001b[0mfh\u001b[0m \u001b[0;34m=\u001b[0m \u001b[0miter\u001b[0m\u001b[0;34m(\u001b[0m\u001b[0mopen\u001b[0m\u001b[0;34m(\u001b[0m\u001b[0mfname\u001b[0m\u001b[0;34m)\u001b[0m\u001b[0;34m)\u001b[0m\u001b[0;34m\u001b[0m\u001b[0m\n\u001b[0m\u001b[1;32m    861\u001b[0m         \u001b[0;32melse\u001b[0m\u001b[0;34m:\u001b[0m\u001b[0;34m\u001b[0m\u001b[0m\n\u001b[1;32m    862\u001b[0m             \u001b[0mfh\u001b[0m \u001b[0;34m=\u001b[0m \u001b[0miter\u001b[0m\u001b[0;34m(\u001b[0m\u001b[0mfname\u001b[0m\u001b[0;34m)\u001b[0m\u001b[0;34m\u001b[0m\u001b[0m\n",
      "\u001b[0;31mFileNotFoundError\u001b[0m: [Errno 2] No such file or directory: 'D:\\\\tandon\\\\AI_for_game\\\\osu_project\\\\normed_training_input.csv'"
     ]
    }
   ],
   "source": [
    "# Input sequence\n",
    "X_test = np.loadtxt(\"D:\\\\tandon\\\\AI_for_game\\\\osu_project\\\\normed_training_input.csv\",delimiter=\",\",skiprows=0)\n",
    "\n",
    "Y_test = np.loadtxt(\"D:\\\\tandon\\\\AI_for_game\\\\osu_project\\\\normed_training_output.csv\",delimiter=\",\",skiprows=0)\n",
    "\n",
    "\n",
    "# Preprocess Data:\n",
    "X_test = np.array(X_test, dtype=float) # Convert to NP array.\n",
    "\n",
    "# target = wholeSequence[0:2] \n",
    "Y_test = np.array(Y_test, dtype=float)\n",
    "\n",
    "N = int(X_test.shape[0] / 120)\n",
    "\n",
    "\n",
    "X_test = X_test.reshape((N, 120, 15))\n",
    "Y_test = Y_test.reshape((N, 120, 3))\n",
    "\n"
   ]
  },
  {
   "cell_type": "code",
   "execution_count": 3,
   "metadata": {
    "collapsed": false
   },
   "outputs": [
    {
     "name": "stdout",
     "output_type": "stream",
     "text": [
      "_________________________________________________________________\n",
      "Layer (type)                 Output Shape              Param #   \n",
      "=================================================================\n",
      "lstm_1 (LSTM)                (None, 120, 64)           20480     \n",
      "_________________________________________________________________\n",
      "lstm_2 (LSTM)                (None, 120, 64)           33024     \n",
      "_________________________________________________________________\n",
      "dense_1 (Dense)              (None, 120, 64)           4160      \n",
      "_________________________________________________________________\n",
      "dense_2 (Dense)              (None, 120, 3)            195       \n",
      "=================================================================\n",
      "Total params: 57,859\n",
      "Trainable params: 57,859\n",
      "Non-trainable params: 0\n",
      "_________________________________________________________________\n"
     ]
    }
   ],
   "source": [
    "#build lstm model\n",
    "model = Sequential()\n",
    "model.add(LSTM(64, input_shape=(120,15),activation='tanh', recurrent_activation='relu',\n",
    "                            use_bias=True, kernel_initializer='glorot_uniform',\n",
    "                            recurrent_initializer='orthogonal', bias_initializer='zeros',\n",
    "                            unit_forget_bias=True, \n",
    "                            return_sequences=True))\n",
    "\n",
    "model.add(LSTM(64,return_sequences=True, activation='relu'))\n",
    "#model.add(LSTM(32,input_length = 24000, input_dim=3,return_sequences=True))\n",
    "model.add(Dense(64, activation='relu'))\n",
    "model.add(Dense(3, activation='sigmoid'))\n",
    "#model.compile(loss='mean_squared_error', optimizer='adam', metrics=['accuracy'])\n",
    "model.compile(loss='binary_crossentropy', optimizer='adam', metrics=['accuracy'])\n",
    "model.summary()"
   ]
  },
  {
   "cell_type": "code",
   "execution_count": null,
   "metadata": {
    "collapsed": true
   },
   "outputs": [],
   "source": [
    "model.fit(X_test, Y_test, epochs=13, batch_size=64, verbose=1)\n",
    "model.save('D:\\\\tandon\\\\AI_for_game\\\\osu_project\\\\refined_my_model_second .h5')"
   ]
  },
  {
   "cell_type": "code",
   "execution_count": null,
   "metadata": {
    "collapsed": true
   },
   "outputs": [],
   "source": [
    "'''\n",
    "X_target = X_test[0:50]\n",
    "predict = model.predict(X_target, verbose = 1)\n",
    "print (predict)\n",
    "np.savetxt('D:\\\\tandon\\\\AI_for_game\\\\osu_project\\\\normed_training_result.csv', predict, delimiter = ',') \n",
    "model.save('D:\\\\tandon\\\\AI_for_game\\\\osu_project\\\\my_model.h5')\n",
    "model2 = model.load('D:\\\\tandon\\\\AI_for_game\\\\osu_project\\\\my_model.h5')\n",
    "'''\n",
    "'''\n",
    "print(\"data\",data)\n",
    "print(\"target\",target)\n",
    "# Reshape training data for Keras LSTM model\n",
    "# The training data needs to be (batchIndex, timeStepIndex, dimentionIndex)\n",
    "# Single batch, 9 time steps, 11 dimentions\n",
    "data = data.reshape((2, 4, 11))\n",
    "target = target.reshape((2, 4))\n",
    "print(\"data\",data)\n",
    "print(\"target\",target)\n",
    "\n",
    "# Build Model\n",
    "model = Sequential() \n",
    "# model.add(Conv1D(11, kernel_size=2,\n",
    "#                  activation='relu',\n",
    "#                  input_shape=(2, 4, 11)))\n",
    "# model.add(Flatten())\n",
    "\n",
    "model.add(LSTM(11, input_shape=(4, 11), unroll=True, return_sequences=True))\n",
    "model.add(LSTM(11, input_shape=(4, 11), unroll=True, return_sequences=False))\n",
    "model.add(Dense(4))\n",
    "model.compile(loss='binary_crossentropy', optimizer='adam', metrics=['accuracy'])\n",
    "model.fit(data, target, epochs=10, batch_size=1, verbose=1)\n",
    "'''"
   ]
  }
 ],
 "metadata": {
  "kernelspec": {
   "display_name": "Python 3",
   "language": "python",
   "name": "python3"
  },
  "language_info": {
   "codemirror_mode": {
    "name": "ipython",
    "version": 3
   },
   "file_extension": ".py",
   "mimetype": "text/x-python",
   "name": "python",
   "nbconvert_exporter": "python",
   "pygments_lexer": "ipython3",
   "version": "3.6.0"
  }
 },
 "nbformat": 4,
 "nbformat_minor": 2
}
